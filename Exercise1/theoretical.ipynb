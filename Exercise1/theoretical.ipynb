{
 "cells": [
  {
   "cell_type": "markdown",
   "metadata": {},
   "source": [
    "## Theory"
   ]
  },
  {
   "cell_type": "markdown",
   "metadata": {},
   "source": [
    "a) The expected number of persons in a group of 42 persons who have birthday on the same day\n",
    "is between 4 and 5."
   ]
  },
  {
   "cell_type": "markdown",
   "metadata": {},
   "source": [
    "**Solution:** \n",
    "\n",
    "- 42 persons\n",
    "- Same Birthday\n",
    "\n",
    "$E(x)$ = $x*(1-\\frac{364}{365}^{x})$\n",
    "\n",
    "$E(42)$ = $42*(1-\\frac{364}{365}^{42})$ = 4.5711\n",
    "\n",
    "Yes, the number of persons in a group of 42 persons who have birthday on the same day is between 4 and 5."
   ]
  },
  {
   "cell_type": "markdown",
   "metadata": {},
   "source": [
    "b) Erdösz-Renyi can be modeled via a link probability p of a link in between two specific nodes or,\n",
    "as an alternative, as the choice of n links out of all possible connections in between N nodes.\n",
    "The correspondence is p = n/N to give the same expectation."
   ]
  },
  {
   "cell_type": "markdown",
   "metadata": {},
   "source": [
    "**Solution:** \n",
    "\n",
    "No, the expected number of links is $p $ =$\\frac{2n}{N(N-1)}$"
   ]
  },
  {
   "cell_type": "markdown",
   "metadata": {},
   "source": [
    "c) For a number of N nodes, the degree distribution of the Erdösz/Renyi model is a Poisson\n",
    "distribution and the degree distribution of the Barabasi/Albert model is a power-law distribution"
   ]
  },
  {
   "cell_type": "markdown",
   "metadata": {},
   "source": [
    "**Solution:** \n",
    "\n",
    "No, the degree distribution of the Erdösz/Renyi model is a Poission distrubtion only if N is infinite just like the degree distribution of the Barabasi/Albert model with the power-law distrbution."
   ]
  },
  {
   "cell_type": "markdown",
   "metadata": {},
   "source": [
    "d) Nodes in a Barabasi/Albert graph have very different numbers of vertices and are inhomogeneous, because the node degree distribution can be approximated by a power law distribution\n",
    "which has infinite moments."
   ]
  },
  {
   "cell_type": "markdown",
   "metadata": {},
   "source": [
    "**Solution:** \n",
    "\n",
    "I don't know the answer"
   ]
  },
  {
   "cell_type": "markdown",
   "metadata": {},
   "source": [
    "e) The more incoming edges, the larger the pagerank of a node."
   ]
  },
  {
   "cell_type": "markdown",
   "metadata": {},
   "source": [
    "**Solution:** \n",
    "\n",
    "This is not true. More incoming edges don't automaitically result in a higher PageRank. There are different factors like (damping factor, outgoing links and the structure of the network)"
   ]
  },
  {
   "cell_type": "markdown",
   "metadata": {},
   "source": [
    "f) When starting with random initialization, the pagerank converges to a value per node which is\n",
    "proportional to the probability of the number of visits of the page in a random walk through the\n",
    "graph\n"
   ]
  },
  {
   "cell_type": "markdown",
   "metadata": {},
   "source": [
    "**Solution:** "
   ]
  },
  {
   "cell_type": "markdown",
   "metadata": {},
   "source": [
    "g) Given a number of pages, one can increase the pagerank of a node in the graph beyond limits\n",
    "by a careful design of the link structure."
   ]
  },
  {
   "cell_type": "markdown",
   "metadata": {},
   "source": [
    "**Solution:** "
   ]
  },
  {
   "cell_type": "markdown",
   "metadata": {},
   "source": [
    "h) ChatGPT takes into account link structure."
   ]
  },
  {
   "cell_type": "markdown",
   "metadata": {},
   "source": [
    "**Solution:**\n",
    "\n",
    "No, since it does not have the ability to browse the web. It operates on its training data."
   ]
  },
  {
   "cell_type": "markdown",
   "metadata": {},
   "source": [
    "i) ChatGPT is trained based on next token prediction, hence no human labeling which might be\n",
    "unethical is required"
   ]
  },
  {
   "cell_type": "markdown",
   "metadata": {},
   "source": [
    "**Solution:** \n",
    "\n",
    "This is not completly correct. ChatGPT does use next token prediction, but after pre-training it does undergo a second training step where human feedback is required to train the model."
   ]
  },
  {
   "cell_type": "markdown",
   "metadata": {},
   "source": [
    "j) There are no open source alternatives to ChatGPT"
   ]
  },
  {
   "cell_type": "markdown",
   "metadata": {},
   "source": [
    "**Solution:** \n",
    "\n",
    "No, there are a lot of open source alternatives for ChatGPT. One that i personally use is GPT4all which is a open source alternative where you can run any LLM locally on your computer."
   ]
  }
 ],
 "metadata": {
  "language_info": {
   "name": "python"
  }
 },
 "nbformat": 4,
 "nbformat_minor": 2
}
