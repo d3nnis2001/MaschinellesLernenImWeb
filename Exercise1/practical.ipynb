{
 "cells": [
  {
   "cell_type": "markdown",
   "metadata": {},
   "source": [
    "## Exercise 2"
   ]
  },
  {
   "cell_type": "markdown",
   "metadata": {},
   "source": [
    "### a)\n",
    "\n",
    "**ChatGPT fails:**\n",
    "\n",
    "There are not many things that GPT cannot do, since it is able to figure out anything by doing web searches on its own. But there were some flaws\n",
    "\n",
    "1. Ask something forbidden\n",
    "\n",
    "    By simply asking something that ChatGPT values as forbidden, it won't give you an answer, whereas the web will always give you an answer no matter what (or show you ressources about the topic)\n",
    "    \n",
    "    **Prompt:** Couter Strike 2 Hacks 2024\n",
    "\n",
    "    **ChatGPT:** I cannot assist you with Information related to hacking or any activity that violate the terms of service...\n",
    "\n",
    "    **Web:** Cheat For Cs 2 | Best Counter Strike 2 Hack | AimBot ...\n",
    "2. Cannot Count\n",
    "\n",
    "    ChatGPT as a LLM has trouble to count properly. It does occasionally use python to perform calculation but it cannot count on its own. \n",
    "\n",
    "    **Prompt:** how many r in strawberry?\n",
    "\n",
    "    **ChatGPT:** 2 r's\n",
    "\n",
    "    **Web:** 3 r's in the first \n",
    "3.\n",
    "    **Prompt:** \n",
    "\n",
    "    **ChatGPT:**\n",
    "\n",
    "    **Web:**\n",
    "\n",
    "**Web fails:**\n",
    "\n",
    "1. Abstract Questions\n",
    "    \n",
    "    The web cannot understand abstract questions or questions that simply make no sense. It will still try to find the best result even if only part of the question is being taking into consideration, where ChatGPT always takes every word into account.\n",
    "\n",
    "    **Prompt:** fruit salad recipe without fruit\n",
    "\n",
    "    **ChatGPT:** A fruit salad without actual fruit might sound like a contradiction, but you can still create a similar dish by using ingredients that mimic the freshness and textures of fruit. Here’s a creative recipe for a fruit salad-inspired dish without using traditional fruits: ...\n",
    "\n",
    "    **Web:** First result is a recipe for a normal fruit salad\n",
    "2. Complex questions\n",
    "\n",
    "    Normally the web only refers to questions that were asked somewhere and were also answered. Questions that are more complex sometimes don't include the right answer or even any answer.\n",
    "    **Prompt:** \n",
    "\n",
    "    **ChatGPT:**\n",
    "\n",
    "    **Web:**\n",
    "3. \n",
    "    **Prompt:** \n",
    "\n",
    "    **ChatGPT:**\n",
    "\n",
    "    **Web:**"
   ]
  }
 ],
 "metadata": {
  "language_info": {
   "name": "python"
  }
 },
 "nbformat": 4,
 "nbformat_minor": 2
}
