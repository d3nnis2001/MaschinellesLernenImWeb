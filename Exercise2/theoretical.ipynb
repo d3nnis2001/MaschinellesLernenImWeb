{
 "cells": [
  {
   "cell_type": "markdown",
   "metadata": {},
   "source": [
    "## Theory"
   ]
  },
  {
   "cell_type": "markdown",
   "metadata": {},
   "source": [
    "The eigenvalues of $X X^t$ and $X^t X$ are both the principal components of the data X. On the other hand, while the eigenvectors of $X X^t$ are the principal components, the one from $X^t X$ are not, but they need to be linearly transformed using X."
   ]
  },
  {
   "cell_type": "markdown",
   "metadata": {},
   "source": [
    "**Solution**:"
   ]
  },
  {
   "cell_type": "markdown",
   "metadata": {},
   "source": [
    "For whitened data, ICA and PCA yield the same results. It targets dimensions which minimize Gaussianity."
   ]
  },
  {
   "cell_type": "markdown",
   "metadata": {},
   "source": [
    "**Solution**:"
   ]
  },
  {
   "cell_type": "markdown",
   "metadata": {},
   "source": [
    "Given data from different classes, where each class can be represented as mixture of Gaussian.\n",
    "Then Fisher discriminant analysis aims for a linear projection which separates these classes\n",
    "best."
   ]
  },
  {
   "cell_type": "markdown",
   "metadata": {},
   "source": [
    "**Solution**:"
   ]
  },
  {
   "cell_type": "markdown",
   "metadata": {},
   "source": [
    "Parametric dimensionality reduction methods provide direct out-of-sample mappings; this holds\n",
    "for ICA, PCA, UMAP."
   ]
  },
  {
   "cell_type": "markdown",
   "metadata": {},
   "source": [
    "**Solution**:"
   ]
  },
  {
   "cell_type": "markdown",
   "metadata": {},
   "source": [
    "Isomap relies on MDS and thus offers closed form solutions via eigenvectors.\n",
    "Afterwards, it uses MDS, where it could use metric one, or mode general solved e.g. by quasiNewton."
   ]
  },
  {
   "cell_type": "markdown",
   "metadata": {},
   "source": [
    "**Solution**:"
   ]
  },
  {
   "cell_type": "markdown",
   "metadata": {},
   "source": [
    "LLE has a quadratic effort for data described by pairwise distances"
   ]
  },
  {
   "cell_type": "markdown",
   "metadata": {},
   "source": [
    "**Solution**:"
   ]
  },
  {
   "cell_type": "markdown",
   "metadata": {},
   "source": [
    "The following dimensionality reduction methods do not provide deterministic outputs: tSNE,\n",
    "UMAP, Laplacian Eigenmap. outputs in different runs."
   ]
  },
  {
   "cell_type": "markdown",
   "metadata": {},
   "source": [
    "**Solution**:"
   ]
  },
  {
   "cell_type": "markdown",
   "metadata": {},
   "source": [
    "The following methods can be used to project also larger data sets, since their complexity is\n",
    "not much affected by the number of data points (eg less than quadratically): Barnes hut t-SNE,\n",
    "ICA, MDS."
   ]
  },
  {
   "cell_type": "markdown",
   "metadata": {},
   "source": [
    "**Solution**:"
   ]
  },
  {
   "cell_type": "markdown",
   "metadata": {},
   "source": [
    "The quality framework evaluates the neighborhood preservation of DR methods in a quantitative way and in linear time."
   ]
  },
  {
   "cell_type": "markdown",
   "metadata": {},
   "source": [
    "**Solution**:"
   ]
  },
  {
   "cell_type": "markdown",
   "metadata": {},
   "source": [
    "The following methods take label information into account and thus can provide an informed\n",
    "projection: LDA, Fisher-t-SNE"
   ]
  },
  {
   "cell_type": "markdown",
   "metadata": {},
   "source": [
    "**Solution**:"
   ]
  }
 ],
 "metadata": {
  "language_info": {
   "name": "python"
  }
 },
 "nbformat": 4,
 "nbformat_minor": 2
}
